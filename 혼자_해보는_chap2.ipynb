{
  "cells": [
    {
      "cell_type": "markdown",
      "metadata": {
        "id": "view-in-github",
        "colab_type": "text"
      },
      "source": [
        "<a href=\"https://colab.research.google.com/github/NHJee/class_Python-for-DL/blob/main/%ED%98%BC%EC%9E%90_%ED%95%B4%EB%B3%B4%EB%8A%94_chap2.ipynb\" target=\"_parent\"><img src=\"https://colab.research.google.com/assets/colab-badge.svg\" alt=\"Open In Colab\"/></a>"
      ]
    },
    {
      "cell_type": "markdown",
      "metadata": {
        "id": "2IZjGqusej5w"
      },
      "source": [
        "# 2.1 신경망과의 첫 만남"
      ]
    },
    {
      "cell_type": "code",
      "execution_count": null,
      "metadata": {
        "id": "3qMW0e8pTjum"
      },
      "outputs": [],
      "source": [
        "# 케라스에서 MNIST 데이터셋 적재하기\n",
        "\n",
        "from tensorflow.keras.datasets import mnist\n",
        "(train_images, train_labels), (test_images, test_labels) = mnist.load_data()\n",
        "\n",
        "\n",
        "# train_images, train_labels가 모델이 학습해야 할 훈련 셋\n",
        "# test_images, test_labels가 모델이 테스트 할 테스트 셋"
      ]
    },
    {
      "cell_type": "code",
      "execution_count": null,
      "metadata": {
        "colab": {
          "base_uri": "https://localhost:8080/"
        },
        "id": "l71WskflU08W",
        "outputId": "2d579e5f-81ca-4f85-df4e-223c3671e1c7"
      },
      "outputs": [
        {
          "data": {
            "text/plain": [
              "(60000, 28, 28)"
            ]
          },
          "execution_count": 4,
          "metadata": {},
          "output_type": "execute_result"
        }
      ],
      "source": [
        "train_images.shape"
      ]
    },
    {
      "cell_type": "code",
      "execution_count": null,
      "metadata": {
        "colab": {
          "base_uri": "https://localhost:8080/"
        },
        "id": "JdrqomxJU74D",
        "outputId": "5ec21be2-139e-4288-c9f1-62643760f3ba"
      },
      "outputs": [
        {
          "data": {
            "text/plain": [
              "60000"
            ]
          },
          "execution_count": 5,
          "metadata": {},
          "output_type": "execute_result"
        }
      ],
      "source": [
        "len(train_labels)"
      ]
    },
    {
      "cell_type": "code",
      "execution_count": null,
      "metadata": {
        "colab": {
          "base_uri": "https://localhost:8080/"
        },
        "id": "ZCi61kcXVHTm",
        "outputId": "95410375-f329-4e8a-851b-1c7587ae55ba"
      },
      "outputs": [
        {
          "data": {
            "text/plain": [
              "array([5, 0, 4, ..., 5, 6, 8], dtype=uint8)"
            ]
          },
          "execution_count": 6,
          "metadata": {},
          "output_type": "execute_result"
        }
      ],
      "source": [
        "train_labels"
      ]
    },
    {
      "cell_type": "code",
      "execution_count": null,
      "metadata": {
        "colab": {
          "base_uri": "https://localhost:8080/"
        },
        "id": "dPn3E3NxVd9Z",
        "outputId": "45d03c83-a788-46bf-ccd8-7c2addcb5ab4"
      },
      "outputs": [
        {
          "data": {
            "text/plain": [
              "(10000, 28, 28)"
            ]
          },
          "execution_count": 7,
          "metadata": {},
          "output_type": "execute_result"
        }
      ],
      "source": [
        "test_images.shape"
      ]
    },
    {
      "cell_type": "code",
      "execution_count": null,
      "metadata": {
        "colab": {
          "base_uri": "https://localhost:8080/"
        },
        "id": "Bi_20KExVmGL",
        "outputId": "038c55f6-c734-47a1-a86a-ecdf5c5ff823"
      },
      "outputs": [
        {
          "data": {
            "text/plain": [
              "10000"
            ]
          },
          "execution_count": 8,
          "metadata": {},
          "output_type": "execute_result"
        }
      ],
      "source": [
        "len(test_labels)"
      ]
    },
    {
      "cell_type": "code",
      "execution_count": null,
      "metadata": {
        "colab": {
          "base_uri": "https://localhost:8080/"
        },
        "id": "1T07JyqvVo22",
        "outputId": "4386450b-7d0f-4ffe-b18c-4a87cddb7a2d"
      },
      "outputs": [
        {
          "data": {
            "text/plain": [
              "array([7, 2, 1, ..., 4, 5, 6], dtype=uint8)"
            ]
          },
          "execution_count": 9,
          "metadata": {},
          "output_type": "execute_result"
        }
      ],
      "source": [
        "test_labels"
      ]
    },
    {
      "cell_type": "code",
      "execution_count": null,
      "metadata": {
        "id": "W2V6iOvCVqws"
      },
      "outputs": [],
      "source": [
        "# 신경망 구조\n",
        "\n",
        "from tensorflow import keras\n",
        "from tensorflow.keras import layers\n",
        "model = keras.Sequential([\n",
        "    layers.Dense(512, activation = \"relu\"),\n",
        "    layers.Dense(10, activation = \"softmax\")\n",
        "])\n",
        "\n",
        "# layer = 층\n",
        "# 처음 6만개의 데이터를 512개로 한 번 걸러내고\n",
        "# 마지막 10개의 데이터로 걸러내는 작업"
      ]
    },
    {
      "cell_type": "code",
      "execution_count": null,
      "metadata": {
        "id": "1kmefhQWWfX0"
      },
      "outputs": [],
      "source": [
        "# 컴파일 단계\n",
        "\n",
        "model.compile(optimizer = \"rmsprop\",\n",
        "              loss = \"sparse_categorical_crossentropy\",\n",
        "              metrics = [\"accuracy\"])"
      ]
    },
    {
      "cell_type": "code",
      "execution_count": null,
      "metadata": {
        "id": "vRYIsv5vYyUk"
      },
      "outputs": [],
      "source": [
        "# 이미지 데이터 준비하기\n",
        "\n",
        "train_images = train_images.reshape((60000, 28*28))\n",
        "train_images = train_images.astype(\"float32\") / 255\n",
        "test_images = test_images.reshape((10000, 28*28))\n",
        "test_images = test_images.astype(\"float32\") / 255\n",
        "\n",
        "# .reshape = 훈련 시작 전, 데이터를 모델에 맞는 크기로 바꿔야된다.\n",
        "# .astype = 0과 1 사이의 값을 갖게 해야돼서 float32 타입을 픽셀의 최댓값인 255로 나눠준다."
      ]
    },
    {
      "cell_type": "code",
      "execution_count": null,
      "metadata": {
        "colab": {
          "background_save": true,
          "base_uri": "https://localhost:8080/"
        },
        "id": "960kLbs9bxSj",
        "outputId": "a700cf94-b615-4883-aaed-43cce1cfcec3"
      },
      "outputs": [
        {
          "name": "stdout",
          "output_type": "stream",
          "text": [
            "Epoch 1/5\n",
            "469/469 [==============================] - 18s 33ms/step - loss: 0.2629 - accuracy: 0.9240\n",
            "Epoch 2/5\n",
            "469/469 [==============================] - 5s 11ms/step - loss: 0.1068 - accuracy: 0.9689\n",
            "Epoch 3/5\n",
            "469/469 [==============================] - 4s 9ms/step - loss: 0.0701 - accuracy: 0.9791\n",
            "Epoch 4/5\n",
            "469/469 [==============================] - 5s 11ms/step - loss: 0.0513 - accuracy: 0.9850\n",
            "Epoch 5/5\n",
            "469/469 [==============================] - 4s 9ms/step - loss: 0.0383 - accuracy: 0.9886\n"
          ]
        },
        {
          "data": {
            "text/plain": [
              "<keras.callbacks.History at 0x7f13cf5cefd0>"
            ]
          },
          "execution_count": 11,
          "metadata": {},
          "output_type": "execute_result"
        }
      ],
      "source": [
        "# 모델 훈련하기\n",
        "\n",
        "model.fit(train_images, train_labels, epochs = 5, batch_size = 128)\n",
        "\n",
        "# .fit = 훈련시키기\n",
        "# epochs = 데이터를 총 5번 반복해서 훈련시킨다. -> 손실이 적어짐\n",
        "# batch_size = 한 번에 많은 양의 데이터를 돌리면 과부화가 걸리니까 랜덤으로 뽑힌 128개의 데이터를 돌린다.\n",
        "\n",
        "# 실행 시키면\n",
        "# loss = 모델의 손실\n",
        "# acc = 모델의 정확도 가 출력된다."
      ]
    },
    {
      "cell_type": "code",
      "execution_count": null,
      "metadata": {
        "colab": {
          "background_save": true,
          "base_uri": "https://localhost:8080/"
        },
        "id": "4Z5KE2U-ciPV",
        "outputId": "10b7f53f-d450-4196-e77c-904861012b91"
      },
      "outputs": [
        {
          "name": "stdout",
          "output_type": "stream",
          "text": [
            "1/1 [==============================] - 0s 84ms/step\n"
          ]
        },
        {
          "data": {
            "text/plain": [
              "array([2.0284388e-08, 5.4449614e-09, 1.7116732e-06, 2.5973874e-05,\n",
              "       1.5673092e-12, 1.5082540e-07, 1.4649807e-12, 9.9997026e-01,\n",
              "       7.5337041e-08, 1.6990689e-06], dtype=float32)"
            ]
          },
          "execution_count": 12,
          "metadata": {},
          "output_type": "execute_result"
        }
      ],
      "source": [
        "# 모델을 사용하여 예측 만들기\n",
        "\n",
        "test_digits = test_images[0:10]\n",
        "predictions = model.predict(test_digits)\n",
        "predictions[0]\n",
        "\n",
        "# predictions[0]에서 7번째 값이 9.99로 가장 높게 나와 모델의 예측 결과는 7이 된다."
      ]
    },
    {
      "cell_type": "code",
      "execution_count": null,
      "metadata": {
        "colab": {
          "background_save": true,
          "base_uri": "https://localhost:8080/"
        },
        "id": "8HKsiExkc1cD",
        "outputId": "0e074722-4080-4c54-f003-a87c09da9628"
      },
      "outputs": [
        {
          "data": {
            "text/plain": [
              "7"
            ]
          },
          "execution_count": 13,
          "metadata": {},
          "output_type": "execute_result"
        }
      ],
      "source": [
        "# .argmax() = 가장 큰 값을 같는 인덱스를 찾아준다.\n",
        "\n",
        "predictions[0].argmax()"
      ]
    },
    {
      "cell_type": "code",
      "execution_count": null,
      "metadata": {
        "colab": {
          "background_save": true,
          "base_uri": "https://localhost:8080/"
        },
        "id": "7YdUB_FVdbuV",
        "outputId": "f4a92262-312d-4f71-c298-49e854db257f"
      },
      "outputs": [
        {
          "data": {
            "text/plain": [
              "7"
            ]
          },
          "execution_count": 14,
          "metadata": {},
          "output_type": "execute_result"
        }
      ],
      "source": [
        "# 테스트 데이터의 레이블과 맞는지 확인\n",
        "\n",
        "test_labels[0]"
      ]
    },
    {
      "cell_type": "code",
      "execution_count": null,
      "metadata": {
        "colab": {
          "background_save": true,
          "base_uri": "https://localhost:8080/"
        },
        "id": "3gqvTuNwdspD",
        "outputId": "32ad9bb7-3132-4aed-aafc-1527382294a6"
      },
      "outputs": [
        {
          "name": "stdout",
          "output_type": "stream",
          "text": [
            "313/313 [==============================] - 1s 2ms/step - loss: 0.0673 - accuracy: 0.9795\n",
            "테스트 정확도 : 0.9794999957084656\n"
          ]
        }
      ],
      "source": [
        "# 새로운 데이터에서 모델 평가하기\n",
        "\n",
        "test_loss, test_acc = model.evaluate(test_images, test_labels)\n",
        "print(f\"테스트 정확도 : {test_acc}\")\n",
        "\n",
        "# 훈련 세트의 정확도 : 98.9 > 테스트 세트의 정확도 : 97.3\n",
        "# 과대적합 때문에 정확도가 약간 낮아진다."
      ]
    },
    {
      "cell_type": "markdown",
      "metadata": {
        "id": "stzQum3Ye1Bm"
      },
      "source": [
        "# 2.2 신경망을 위한 데이터 표현"
      ]
    },
    {
      "cell_type": "code",
      "execution_count": null,
      "metadata": {
        "colab": {
          "base_uri": "https://localhost:8080/"
        },
        "id": "Ww1mjlM1e4Ap",
        "outputId": "75ed1c53-1dbf-4f9e-e850-e136348f6e0c"
      },
      "outputs": [
        {
          "name": "stdout",
          "output_type": "stream",
          "text": [
            "Downloading data from https://storage.googleapis.com/tensorflow/tf-keras-datasets/mnist.npz\n",
            "11490434/11490434 [==============================] - 0s 0us/step\n"
          ]
        }
      ],
      "source": [
        "from tensorflow.keras.datasets import mnist\n",
        "(train_images, train_labels), (test_images, test_labels) = mnist.load_data()"
      ]
    },
    {
      "cell_type": "code",
      "execution_count": null,
      "metadata": {
        "colab": {
          "base_uri": "https://localhost:8080/"
        },
        "id": "xmtyFc5YZn8S",
        "outputId": "6a06c456-63cf-4407-9ade-93a45423e34e"
      },
      "outputs": [
        {
          "data": {
            "text/plain": [
              "3"
            ]
          },
          "execution_count": 2,
          "metadata": {},
          "output_type": "execute_result"
        }
      ],
      "source": [
        "# 축의 갯수 확인하기 (rank)\n",
        "\n",
        "train_images.ndim"
      ]
    },
    {
      "cell_type": "code",
      "execution_count": null,
      "metadata": {
        "colab": {
          "base_uri": "https://localhost:8080/"
        },
        "id": "z2u6nAx6ZwGv",
        "outputId": "976b58d8-e3a5-4d92-81f3-1eebdc1aa9f2"
      },
      "outputs": [
        {
          "data": {
            "text/plain": [
              "(60000, 28, 28)"
            ]
          },
          "execution_count": 3,
          "metadata": {},
          "output_type": "execute_result"
        }
      ],
      "source": [
        "# .shape = 배열의 크기\n",
        "\n",
        "train_images.shape"
      ]
    },
    {
      "cell_type": "code",
      "execution_count": null,
      "metadata": {
        "colab": {
          "base_uri": "https://localhost:8080/"
        },
        "id": "EyQP4yfmZx1n",
        "outputId": "029b65a4-5b14-48d4-c719-4544fc0dc12a"
      },
      "outputs": [
        {
          "data": {
            "text/plain": [
              "dtype('uint8')"
            ]
          },
          "execution_count": 4,
          "metadata": {},
          "output_type": "execute_result"
        }
      ],
      "source": [
        "# .dtype = 데이터 타입\n",
        "\n",
        "train_images.dtype"
      ]
    },
    {
      "cell_type": "code",
      "execution_count": null,
      "metadata": {
        "colab": {
          "base_uri": "https://localhost:8080/",
          "height": 265
        },
        "id": "O4k-zPzOZznP",
        "outputId": "a6b222c9-0060-42e3-f891-23ce28f8241f"
      },
      "outputs": [
        {
          "data": {
            "image/png": "[encoded data removed]",
            "text/plain": [
              "<Figure size 432x288 with 1 Axes>"
            ]
          },
          "metadata": {},
          "output_type": "display_data"
        }
      ],
      "source": [
        "# 다섯 번 째 이미지 출력하기\n",
        "\n",
        "import matplotlib.pyplot as plt\n",
        "\n",
        "digit = train_images[4] # 파이썬은 0부터 세기 때문에 4로 넣어줌\n",
        "plt.imshow(digit, cmap = plt.cm.binary)\n",
        "plt.show()"
      ]
    },
    {
      "cell_type": "code",
      "execution_count": null,
      "metadata": {
        "colab": {
          "base_uri": "https://localhost:8080/"
        },
        "id": "WAdAvbnsafyK",
        "outputId": "f16f2546-5d9d-4b39-b074-94b4aebfb405"
      },
      "outputs": [
        {
          "data": {
            "text/plain": [
              "(90, 28, 28)"
            ]
          },
          "execution_count": 6,
          "metadata": {},
          "output_type": "execute_result"
        }
      ],
      "source": [
        "# 슬라이싱\n",
        "\n",
        "my_slice = train_images[10 : 100] # 11번째 값부터 100번째 값까지의 숫자를 선택 = 총 90개\n",
        "my_slice.shape"
      ]
    },
    {
      "cell_type": "markdown",
      "metadata": {
        "id": "hsHZJzirudre"
      },
      "source": [
        "혼자 해보는 예제"
      ]
    },
    {
      "cell_type": "code",
      "execution_count": null,
      "metadata": {
        "id": "wMorWqw9ufUn"
      },
      "outputs": [],
      "source": [
        "from tensorflow.keras.datasets import mnist\n",
        "(train_images, train_labels), (test_images, test_labels) = mnist.load_data()"
      ]
    },
    {
      "cell_type": "code",
      "execution_count": null,
      "metadata": {
        "id": "WrtwrOEEu86k"
      },
      "outputs": [],
      "source": [
        "from tensorflow import keras\n",
        "from tensorflow.keras import layers\n",
        "\n",
        "model = keras.Sequential([\n",
        "    layers.Dense(512, activation = \"relu\"),\n",
        "    layers.Dense(10, activation = \"softmax\")\n",
        "])"
      ]
    },
    {
      "cell_type": "code",
      "execution_count": null,
      "metadata": {
        "id": "BvbjXN89vYuJ"
      },
      "outputs": [],
      "source": [
        "model.compile(optimizer = \"rmsprop\",\n",
        "              loss = \"sparse_categorical_crossentropy\",\n",
        "              metrics = [\"accuracy\"])"
      ]
    },
    {
      "cell_type": "code",
      "execution_count": null,
      "metadata": {
        "id": "i_vENNR3vusv"
      },
      "outputs": [],
      "source": [
        "train_images = train_images.reshape((60000, 28*28))\n",
        "train_images = train_images.astype(\"float32\") / 255\n",
        "test_images = test_images.reshape((10000, 28*28))\n",
        "test_images = test_images.astype(\"float32\") / 255"
      ]
    },
    {
      "cell_type": "code",
      "execution_count": null,
      "metadata": {
        "colab": {
          "base_uri": "https://localhost:8080/"
        },
        "id": "pmBxhd5fwEaf",
        "outputId": "66cb8a94-94f5-4f27-9de3-94a283f4eda5"
      },
      "outputs": [
        {
          "name": "stdout",
          "output_type": "stream",
          "text": [
            "Epoch 1/5\n",
            "469/469 [==============================] - 6s 11ms/step - loss: 0.2628 - accuracy: 0.9236\n",
            "Epoch 2/5\n",
            "469/469 [==============================] - 4s 9ms/step - loss: 0.1056 - accuracy: 0.9693\n",
            "Epoch 3/5\n",
            "469/469 [==============================] - 4s 9ms/step - loss: 0.0696 - accuracy: 0.9788\n",
            "Epoch 4/5\n",
            "469/469 [==============================] - 5s 11ms/step - loss: 0.0506 - accuracy: 0.9849\n",
            "Epoch 5/5\n",
            "469/469 [==============================] - 5s 11ms/step - loss: 0.0384 - accuracy: 0.9880\n"
          ]
        },
        {
          "data": {
            "text/plain": [
              "<keras.callbacks.History at 0x7f605421e9d0>"
            ]
          },
          "execution_count": 18,
          "metadata": {},
          "output_type": "execute_result"
        }
      ],
      "source": [
        "model.fit(train_images, train_labels, epochs = 5, batch_size = 128)"
      ]
    },
    {
      "cell_type": "code",
      "execution_count": null,
      "metadata": {
        "colab": {
          "base_uri": "https://localhost:8080/"
        },
        "id": "Sy3Pb-oiwOIV",
        "outputId": "9a42eab1-0402-4d30-b6d6-431bb32d9f5c"
      },
      "outputs": [
        {
          "name": "stdout",
          "output_type": "stream",
          "text": [
            "1/1 [==============================] - 0s 181ms/step\n"
          ]
        },
        {
          "data": {
            "text/plain": [
              "array([3.4160649e-08, 1.9310828e-09, 3.9658389e-06, 1.0426455e-05,\n",
              "       2.5735308e-11, 9.8947083e-08, 7.5959898e-12, 9.9998146e-01,\n",
              "       8.8651454e-08, 3.8826583e-06], dtype=float32)"
            ]
          },
          "execution_count": 19,
          "metadata": {},
          "output_type": "execute_result"
        }
      ],
      "source": [
        "test_digits = test_images[:10]\n",
        "predictions = model.predict(test_digits)\n",
        "predictions[0]"
      ]
    }
  ],
  "metadata": {
    "colab": {
      "collapsed_sections": [
        "2IZjGqusej5w"
      ],
      "provenance": [],
      "authorship_tag": "ABX9TyNv/n+CKE/6FbD42lngql5+",
      "include_colab_link": true
    },
    "kernelspec": {
      "display_name": "Python 3",
      "name": "python3"
    },
    "language_info": {
      "name": "python"
    }
  },
  "nbformat": 4,
  "nbformat_minor": 0
}